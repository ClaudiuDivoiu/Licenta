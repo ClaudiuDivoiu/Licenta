{
 "cells": [
  {
   "cell_type": "markdown",
   "metadata": {},
   "source": [
    "First, we take the dataset and merge the title and text columns into a single one, then print the first few lines to validate what we're doing."
   ]
  },
  {
   "cell_type": "code",
   "execution_count": 7,
   "metadata": {},
   "outputs": [
    {
     "name": "stdout",
     "output_type": "stream",
     "text": [
      "                                                text  label\n",
      "0  LAW ENFORCEMENT ON HIGH ALERT Following Threat...      1\n",
      "1     Did they post their votes for Hillary already?      1\n",
      "2  UNBELIEVABLE! OBAMA’S ATTORNEY GENERAL SAYS MO...      1\n",
      "3  Bobby Jindal, raised Hindu, uses story of Chri...      0\n",
      "4  SATAN 2: Russia unvelis an image of its terrif...      1\n"
     ]
    }
   ],
   "source": [
    "import pandas as pd\n",
    "\n",
    "df = pd.read_csv('../datasets/WELFake_Dataset.csv')\n",
    "\n",
    "df.fillna({'title': '', 'text': ''}, inplace=True)\n",
    "\n",
    "df.drop(columns=['Unnamed: 0'], inplace=True)\n",
    "\n",
    "df['text'] = df['title'] + \" \" + df['text']\n",
    "\n",
    "df.drop(columns=['title'], inplace=True)\n",
    "\n",
    "print(df.head())"
   ]
  },
  {
   "cell_type": "markdown",
   "metadata": {},
   "source": [
    "Then we proceed with preproccesing the text with beautiful soup and nltk."
   ]
  },
  {
   "cell_type": "code",
   "execution_count": 8,
   "metadata": {},
   "outputs": [
    {
     "name": "stderr",
     "output_type": "stream",
     "text": [
      "[nltk_data] Downloading package stopwords to\n",
      "[nltk_data]     C:\\Users\\Claudiu\\AppData\\Roaming\\nltk_data...\n",
      "[nltk_data]   Package stopwords is already up-to-date!\n",
      "[nltk_data] Downloading package punkt to\n",
      "[nltk_data]     C:\\Users\\Claudiu\\AppData\\Roaming\\nltk_data...\n",
      "[nltk_data]   Package punkt is already up-to-date!\n",
      "[nltk_data] Downloading package wordnet to\n",
      "[nltk_data]     C:\\Users\\Claudiu\\AppData\\Roaming\\nltk_data...\n",
      "[nltk_data]   Package wordnet is already up-to-date!\n",
      "Processing Text:   1%|          | 414/72134 [00:01<04:49, 247.44it/s]C:\\Users\\Claudiu\\AppData\\Local\\Temp\\ipykernel_1224\\4053827100.py:25: MarkupResemblesLocatorWarning: The input looks more like a filename than markup. You may want to open this file and pass the filehandle into Beautiful Soup.\n",
      "  text = BeautifulSoup(text, \"html.parser\").get_text()\n",
      "Processing Text: 100%|██████████| 72134/72134 [03:56<00:00, 305.05it/s]\n",
      "Extracting Features: 100%|██████████| 72134/72134 [1:13:27<00:00, 16.37it/s]\n"
     ]
    }
   ],
   "source": [
    "import re\n",
    "import string\n",
    "import nltk\n",
    "from bs4 import BeautifulSoup\n",
    "from nltk.corpus import stopwords\n",
    "from nltk.tokenize import word_tokenize\n",
    "from nltk.stem import WordNetLemmatizer\n",
    "import spacy\n",
    "from textblob import TextBlob\n",
    "import pandas as pd\n",
    "from sklearn.model_selection import train_test_split\n",
    "from tqdm import tqdm\n",
    "\n",
    "nltk.download('stopwords')\n",
    "nltk.download('punkt')\n",
    "nltk.download('wordnet')\n",
    "\n",
    "lemmatizer = WordNetLemmatizer()\n",
    "stop_words = set(stopwords.words('english'))\n",
    "nlp = spacy.load('en_core_web_sm')\n",
    "\n",
    "def preprocess_text(text):\n",
    "    text = BeautifulSoup(text, \"html.parser\").get_text()\n",
    "    text = re.sub(r\"http\\S+|www\\S+|https\\S+\", '', text, flags=re.MULTILINE)\n",
    "    text = re.sub(r'\\[[^]]*\\]', '', text)\n",
    "    text = re.sub(r'\\d+', '', text)\n",
    "    text = text.lower()\n",
    "    tokens = word_tokenize(text)\n",
    "    tokens = [word for word in tokens if word not in stop_words]\n",
    "    tokens = [lemmatizer.lemmatize(word) for word in tokens]\n",
    "    return \" \".join(tokens)\n",
    "\n",
    "def extract_features(text):\n",
    "    features = {}\n",
    "    features['exclamation_count'] = text.count('!')\n",
    "    features['question_count'] = text.count('?')\n",
    "    features['capital_word_count'] = sum(1 for word in text.split() if word.isupper())\n",
    "    features['sentiment'] = TextBlob(text).sentiment.polarity\n",
    "\n",
    "    verb_counts = {\"present\": 0, \"past\": 0, \"future\": 0}\n",
    "    doc = nlp(text)\n",
    "    for token in doc:\n",
    "        if token.pos_ == 'VERB':\n",
    "            if token.tag_ in ['VBP', 'VBZ', 'VBG']:\n",
    "                verb_counts[\"present\"] += 1\n",
    "            elif token.tag_ in ['VBD']:\n",
    "                verb_counts[\"past\"] += 1\n",
    "            elif token.tag_ in ['MD']:\n",
    "                verb_counts[\"future\"] += 1\n",
    "    features.update(verb_counts)\n",
    "    return features\n",
    "\n",
    "tqdm.pandas(desc=\"Processing Text\")\n",
    "df['processed_text'] = df['text'].progress_apply(preprocess_text)\n",
    "\n",
    "tqdm.pandas(desc=\"Extracting Features\")\n",
    "df_features = df['text'].progress_apply(extract_features).apply(pd.Series)\n",
    "\n",
    "df = pd.concat([df, df_features], axis=1)\n",
    "\n",
    "df.to_pickle('processed_data.pkl')\n",
    "\n",
    "texts = df['processed_text'].tolist()\n",
    "\n",
    "additional_features = df[['exclamation_count', 'question_count', 'capital_word_count', 'sentiment', 'present', 'past', 'future']]\n",
    "labels = df['label']\n",
    "\n",
    "train_texts, test_texts, train_additional_features, test_additional_features, train_labels, test_labels = train_test_split(\n",
    "    texts, additional_features, labels, test_size=0.2, random_state=42\n",
    ")\n"
   ]
  },
  {
   "cell_type": "code",
   "execution_count": 2,
   "metadata": {},
   "outputs": [],
   "source": [
    "from transformers import BertTokenizer\n",
    "\n",
    "tokenizer = BertTokenizer.from_pretrained('bert-base-uncased')\n",
    "\n",
    "class BERTDataset(Dataset):\n",
    "    def __init__(self, texts, labels):\n",
    "        self.encodings = tokenizer(texts, padding=True, truncation=True, return_tensors=\"pt\")\n",
    "        self.labels = torch.tensor(labels.values, dtype=torch.long)\n",
    "    \n",
    "    def __getitem__(self, idx):\n",
    "        item = {key: val[idx] for key, val in self.encodings.items()}\n",
    "        item['labels'] = self.labels[idx]\n",
    "        return item\n",
    "\n",
    "    def __len__(self):\n",
    "        return len(self.labels)\n",
    "\n",
    "class CustomDataset(Dataset):\n",
    "    def __init__(self, texts, additional_features, labels):\n",
    "        self.encodings = tokenizer(texts, padding=True, truncation=True, return_tensors=\"pt\")\n",
    "        self.additional_features = torch.tensor(additional_features.values, dtype=torch.float)\n",
    "        self.labels = torch.tensor(labels.values, dtype=torch.long)\n",
    "    \n",
    "    def __getitem__(self, idx):\n",
    "        item = {key: val[idx] for key, val in self.encodings.items()}\n",
    "        item['additional_features'] = self.additional_features[idx]\n",
    "        item['labels'] = self.labels[idx]\n",
    "        return item\n",
    "\n",
    "    def __len__(self):\n",
    "        return len(self.labels)\n",
    "\n",
    "# baseline_train_dataset = BERTDataset(train_texts, train_labels)\n",
    "# baseline_test_dataset = BERTDataset(test_texts, test_labels)\n",
    "# enhanced_train_dataset = CustomDataset(train_texts, train_additional_features, train_labels)\n",
    "# enhanced_test_dataset = CustomDataset(test_texts, test_additional_features, test_labels)\n"
   ]
  },
  {
   "cell_type": "code",
   "execution_count": 21,
   "metadata": {},
   "outputs": [],
   "source": [
    "torch.save(baseline_train_dataset, 'baseline_train_dataset.pt')\n",
    "torch.save(baseline_test_dataset, 'baseline_test_dataset.pt')\n",
    "torch.save(enhanced_train_dataset, 'enhanced_train_dataset.pt')\n",
    "torch.save(enhanced_test_dataset, 'enhanced_test_dataset.pt')"
   ]
  },
  {
   "cell_type": "code",
   "execution_count": 3,
   "metadata": {},
   "outputs": [
    {
     "name": "stderr",
     "output_type": "stream",
     "text": [
      "                                                        \n",
      "100%|██████████| 10821/10821 [13:22:25<00:00,  3.70s/it]"
     ]
    },
    {
     "name": "stdout",
     "output_type": "stream",
     "text": [
      "{'eval_loss': 0.029533175751566887, 'eval_accuracy': 0.9950093574547723, 'eval_runtime': 1620.339, 'eval_samples_per_second': 8.904, 'eval_steps_per_second': 0.139, 'epoch': 3.0}\n"
     ]
    },
    {
     "name": "stderr",
     "output_type": "stream",
     "text": [
      "100%|██████████| 10821/10821 [13:22:27<00:00,  4.45s/it]\n"
     ]
    },
    {
     "name": "stdout",
     "output_type": "stream",
     "text": [
      "{'train_runtime': 48147.0977, 'train_samples_per_second': 3.596, 'train_steps_per_second': 0.225, 'train_loss': 0.03894315632609735, 'epoch': 3.0}\n"
     ]
    },
    {
     "name": "stderr",
     "output_type": "stream",
     "text": [
      "100%|██████████| 226/226 [26:53<00:00,  7.14s/it]\n"
     ]
    },
    {
     "name": "stdout",
     "output_type": "stream",
     "text": [
      "Baseline Model Accuracy: 0.9950093574547723\n"
     ]
    }
   ],
   "source": [
    "import torch\n",
    "from torch.utils.data import Dataset, DataLoader\n",
    "from transformers import BertForSequenceClassification, Trainer, TrainingArguments\n",
    "\n",
    "baseline_train_dataset = torch.load('baseline_train_dataset.pt')\n",
    "baseline_test_dataset = torch.load('baseline_test_dataset.pt')\n",
    "enhanced_train_dataset = torch.load('enhanced_train_dataset.pt')\n",
    "enhanced_test_dataset = torch.load('enhanced_test_dataset.pt')\n",
    "\n",
    "device = torch.device('cuda') if torch.cuda.is_available() else torch.device('cpu')\n",
    "print(device.type)\n",
    "\n",
    "baseline_model = BertForSequenceClassification.from_pretrained('bert-base-uncased', num_labels=2)\n",
    "baseline_model.to(device)\n",
    "\n",
    "training_args = TrainingArguments(\n",
    "    output_dir='./results',          \n",
    "    num_train_epochs=3,              \n",
    "    per_device_train_batch_size=16,  \n",
    "    per_device_eval_batch_size=64,   \n",
    "    warmup_steps=500,                \n",
    "    weight_decay=0.01,               \n",
    "    logging_dir='./logs',            \n",
    "    logging_steps=10,\n",
    "    evaluation_strategy=\"epoch\",\n",
    "    save_strategy=\"epoch\",\n",
    "    load_best_model_at_end=True,\n",
    "    metric_for_best_model=\"accuracy\"  \n",
    ")\n",
    "\n",
    "trainer = Trainer(\n",
    "    model=baseline_model,                         \n",
    "    args=training_args,                  \n",
    "    train_dataset=baseline_train_dataset,         \n",
    "    eval_dataset=baseline_test_dataset,\n",
    "    compute_metrics=lambda p: {\"accuracy\": (p.predictions.argmax(-1) == p.label_ids).astype(float).mean().item()}\n",
    ")\n",
    "\n",
    "trainer.train()\n",
    "baseline_results = trainer.evaluate()\n",
    "\n",
    "trainer.save_model(\"./best_model\")\n",
    "\n",
    "print(\"Baseline Model Accuracy:\", baseline_results['eval_accuracy'])\n"
   ]
  },
  {
   "cell_type": "code",
   "execution_count": 4,
   "metadata": {},
   "outputs": [
    {
     "name": "stdout",
     "output_type": "stream",
     "text": [
      "{'eval_loss': 0.029533175751566887, 'eval_accuracy': 0.9950093574547723, 'eval_runtime': 1620.9927, 'eval_samples_per_second': 8.9, 'eval_steps_per_second': 0.139, 'epoch': 3.0}\n"
     ]
    }
   ],
   "source": [
    "print(baseline_results)"
   ]
  },
  {
   "cell_type": "code",
   "execution_count": 5,
   "metadata": {},
   "outputs": [
    {
     "name": "stderr",
     "output_type": "stream",
     "text": [
      "100%|██████████| 226/226 [34:57<00:00,  9.28s/it]\n"
     ]
    },
    {
     "name": "stdout",
     "output_type": "stream",
     "text": [
      "Baseline Model Metrics: {'eval_loss': 0.029533175751566887, 'eval_accuracy': 0.9950093574547723, 'eval_precision': 0.9930781758957655, 'eval_recall': 0.9971381847914963, 'eval_f1': 0.9951040391676866, 'eval_runtime': 2106.9601, 'eval_samples_per_second': 6.847, 'eval_steps_per_second': 0.107}\n"
     ]
    },
    {
     "name": "stderr",
     "output_type": "stream",
     "text": [
      "100%|██████████| 226/226 [34:53<00:00,  9.26s/it]\n"
     ]
    },
    {
     "data": {
      "image/png": "[encoded data removed]",
      "text/plain": [
       "<Figure size 640x480 with 2 Axes>"
      ]
     },
     "metadata": {},
     "output_type": "display_data"
    }
   ],
   "source": [
    "from transformers import BertForSequenceClassification, Trainer, TrainingArguments\n",
    "from sklearn.metrics import accuracy_score, precision_recall_fscore_support, confusion_matrix\n",
    "import matplotlib.pyplot as plt\n",
    "import seaborn as sns\n",
    "import torch\n",
    "\n",
    "device = torch.device('cuda') if torch.cuda.is_available() else torch.device('cpu')\n",
    "\n",
    "# Load the saved model\n",
    "model_path = \"./best_model\"\n",
    "baseline_model = BertForSequenceClassification.from_pretrained(model_path)\n",
    "baseline_model.to(device)\n",
    "\n",
    "# Define the compute_metrics function\n",
    "def compute_metrics(pred):\n",
    "    labels = pred.label_ids\n",
    "    preds = pred.predictions.argmax(-1)\n",
    "    accuracy = accuracy_score(labels, preds)\n",
    "    precision, recall, f1, _ = precision_recall_fscore_support(labels, preds, average='binary')\n",
    "    return {\n",
    "        'accuracy': accuracy,\n",
    "        'precision': precision,\n",
    "        'recall': recall,\n",
    "        'f1': f1,\n",
    "    }\n",
    "\n",
    "# Define the function to plot the confusion matrix\n",
    "def plot_confusion_matrix(pred):\n",
    "    labels = pred.label_ids\n",
    "    preds = pred.predictions.argmax(-1)\n",
    "    cm = confusion_matrix(labels, preds)\n",
    "    sns.heatmap(cm, annot=True, fmt=\"d\", cmap=\"Blues\")\n",
    "    plt.xlabel('Predicted')\n",
    "    plt.ylabel('True')\n",
    "    plt.show()\n",
    "\n",
    "# Create a Trainer for evaluation\n",
    "evaluation_args = TrainingArguments(\n",
    "    output_dir='./results',          \n",
    "    per_device_eval_batch_size=64,   \n",
    "    logging_dir='./logs',            \n",
    "    logging_steps=10,\n",
    ")\n",
    "\n",
    "trainer = Trainer(\n",
    "    model=baseline_model,                         \n",
    "    args=evaluation_args,                  \n",
    "    eval_dataset=baseline_test_dataset,\n",
    "    compute_metrics=compute_metrics\n",
    ")\n",
    "\n",
    "# Evaluate the model\n",
    "baseline_results = trainer.evaluate()\n",
    "print(\"Baseline Model Metrics:\", baseline_results)\n",
    "\n",
    "# Predict and plot confusion matrix\n",
    "predictions = trainer.predict(baseline_test_dataset)\n",
    "plot_confusion_matrix(predictions)\n"
   ]
  }
 ],
 "metadata": {
  "kernelspec": {
   "display_name": "venv",
   "language": "python",
   "name": "python3"
  },
  "language_info": {
   "codemirror_mode": {
    "name": "ipython",
    "version": 3
   },
   "file_extension": ".py",
   "mimetype": "text/x-python",
   "name": "python",
   "nbconvert_exporter": "python",
   "pygments_lexer": "ipython3",
   "version": "3.10.9"
  }
 },
 "nbformat": 4,
 "nbformat_minor": 2
}
