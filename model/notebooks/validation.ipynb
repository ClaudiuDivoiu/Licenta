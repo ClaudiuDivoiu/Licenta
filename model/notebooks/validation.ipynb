{
 "cells": [
  {
   "cell_type": "code",
   "execution_count": 9,
   "metadata": {},
   "outputs": [
    {
     "name": "stdout",
     "output_type": "stream",
     "text": [
      "          idd                                               text label\n",
      "0  Fq+C96tcx+  ‘A target on Roe v. Wade ’: Oklahoma bill maki...  REAL\n",
      "1  bHUqK!pgmv  Study: women had to drive 4 times farther afte...  REAL\n",
      "2  4Y4Ubf%aTi  Trump, Clinton clash in dueling DC speeches Do...  REAL\n",
      "3  _CoY89SJ@K  Grand jury in Texas indicts activists behind P...  REAL\n",
      "4  +rJHoRQVLe  As Reproductive Rights Hang In The Balance, De...  REAL\n"
     ]
    }
   ],
   "source": [
    "import pandas as pd\n",
    "\n",
    "df = pd.read_csv('../datasets/fake_and_real_news_dataset.csv')\n",
    "\n",
    "df.fillna({'title': '', 'text': ''}, inplace=True)\n",
    "\n",
    "df['text'] = df['title'] + \" \" + df['text']\n",
    "\n",
    "df.drop(columns=['title'], inplace=True)\n",
    "\n",
    "df['label'] = df['label'].map({'FAKE': 1, 'REAL': 0})\n",
    "\n",
    "print(df.head())"
   ]
  },
  {
   "cell_type": "code",
   "execution_count": 3,
   "metadata": {},
   "outputs": [
    {
     "name": "stderr",
     "output_type": "stream",
     "text": [
      "[nltk_data] Downloading package stopwords to\n",
      "[nltk_data]     C:\\Users\\Claudiu\\AppData\\Roaming\\nltk_data...\n",
      "[nltk_data]   Package stopwords is already up-to-date!\n",
      "[nltk_data] Downloading package punkt to\n",
      "[nltk_data]     C:\\Users\\Claudiu\\AppData\\Roaming\\nltk_data...\n",
      "[nltk_data]   Package punkt is already up-to-date!\n",
      "[nltk_data] Downloading package wordnet to\n",
      "[nltk_data]     C:\\Users\\Claudiu\\AppData\\Roaming\\nltk_data...\n",
      "[nltk_data]   Package wordnet is already up-to-date!\n",
      "Processing Text:   1%|          | 112/20800 [00:01<02:29, 138.68it/s]C:\\Users\\Claudiu\\AppData\\Local\\Temp\\ipykernel_25276\\3821186081.py:23: MarkupResemblesLocatorWarning: The input looks more like a filename than markup. You may want to open this file and pass the filehandle into Beautiful Soup.\n",
      "  text = BeautifulSoup(text, \"html.parser\").get_text()\n",
      "Processing Text: 100%|██████████| 20800/20800 [01:49<00:00, 189.95it/s]\n"
     ]
    },
    {
     "ename": "NameError",
     "evalue": "name 'df_features' is not defined",
     "output_type": "error",
     "traceback": [
      "\u001b[1;31m---------------------------------------------------------------------------\u001b[0m",
      "\u001b[1;31mNameError\u001b[0m                                 Traceback (most recent call last)",
      "Cell \u001b[1;32mIn[3], line 59\u001b[0m\n\u001b[0;32m     54\u001b[0m df[\u001b[38;5;124m'\u001b[39m\u001b[38;5;124mprocessed_text\u001b[39m\u001b[38;5;124m'\u001b[39m] \u001b[38;5;241m=\u001b[39m df[\u001b[38;5;124m'\u001b[39m\u001b[38;5;124mtext\u001b[39m\u001b[38;5;124m'\u001b[39m]\u001b[38;5;241m.\u001b[39mprogress_apply(preprocess_text)\n\u001b[0;32m     56\u001b[0m \u001b[38;5;66;03m# tqdm.pandas(desc=\"Extracting Features\")\u001b[39;00m\n\u001b[0;32m     57\u001b[0m \u001b[38;5;66;03m# df_features = df['text'].progress_apply(extract_features).apply(pd.Series)\u001b[39;00m\n\u001b[1;32m---> 59\u001b[0m df \u001b[38;5;241m=\u001b[39m pd\u001b[38;5;241m.\u001b[39mconcat([df, \u001b[43mdf_features\u001b[49m], axis\u001b[38;5;241m=\u001b[39m\u001b[38;5;241m1\u001b[39m)\n\u001b[0;32m     61\u001b[0m df\u001b[38;5;241m.\u001b[39mto_pickle(\u001b[38;5;124m'\u001b[39m\u001b[38;5;124mprocessed_data.pkl\u001b[39m\u001b[38;5;124m'\u001b[39m)\n\u001b[0;32m     63\u001b[0m texts \u001b[38;5;241m=\u001b[39m df[\u001b[38;5;124m'\u001b[39m\u001b[38;5;124mprocessed_text\u001b[39m\u001b[38;5;124m'\u001b[39m]\u001b[38;5;241m.\u001b[39mtolist()\n",
      "\u001b[1;31mNameError\u001b[0m: name 'df_features' is not defined"
     ]
    }
   ],
   "source": [
    "import re\n",
    "import string\n",
    "import nltk\n",
    "from bs4 import BeautifulSoup\n",
    "from nltk.corpus import stopwords\n",
    "from nltk.tokenize import word_tokenize\n",
    "from nltk.stem import WordNetLemmatizer\n",
    "import spacy\n",
    "from textblob import TextBlob\n",
    "import pandas as pd\n",
    "from sklearn.model_selection import train_test_split\n",
    "from tqdm import tqdm\n",
    "\n",
    "nltk.download('stopwords')\n",
    "nltk.download('punkt')\n",
    "nltk.download('wordnet')\n",
    "\n",
    "lemmatizer = WordNetLemmatizer()\n",
    "stop_words = set(stopwords.words('english'))\n",
    "nlp = spacy.load('en_core_web_sm')\n",
    "\n",
    "def preprocess_text(text):\n",
    "    text = BeautifulSoup(text, \"html.parser\").get_text()\n",
    "    text = re.sub(r\"http\\S+|www\\S+|https\\S+\", '', text, flags=re.MULTILINE)\n",
    "    text = re.sub(r'\\[[^]]*\\]', '', text)\n",
    "    text = re.sub(r'\\d+', '', text)\n",
    "    text = text.lower()\n",
    "    tokens = word_tokenize(text)\n",
    "    tokens = [word for word in tokens if word not in stop_words]\n",
    "    tokens = [lemmatizer.lemmatize(word) for word in tokens]\n",
    "    return \" \".join(tokens)\n",
    "\n",
    "def extract_features(text):\n",
    "    features = {}\n",
    "    features['exclamation_count'] = text.count('!')\n",
    "    features['question_count'] = text.count('?')\n",
    "    features['capital_word_count'] = sum(1 for word in text.split() if word.isupper())\n",
    "    features['sentiment'] = TextBlob(text).sentiment.polarity\n",
    "\n",
    "    verb_counts = {\"present\": 0, \"past\": 0, \"future\": 0}\n",
    "    doc = nlp(text)\n",
    "    for token in doc:\n",
    "        if token.pos_ == 'VERB':\n",
    "            if token.tag_ in ['VBP', 'VBZ', 'VBG']:\n",
    "                verb_counts[\"present\"] += 1\n",
    "            elif token.tag_ in ['VBD']:\n",
    "                verb_counts[\"past\"] += 1\n",
    "            elif token.tag_ in ['MD']:\n",
    "                verb_counts[\"future\"] += 1\n",
    "    features.update(verb_counts)\n",
    "    return features\n",
    "\n",
    "tqdm.pandas(desc=\"Processing Text\")\n",
    "df['processed_text'] = df['text'].progress_apply(preprocess_text)\n",
    "\n",
    "# tqdm.pandas(desc=\"Extracting Features\")\n",
    "# df_features = df['text'].progress_apply(extract_features).apply(pd.Series)\n",
    "\n",
    "# df = pd.concat([df, df_features], axis=1)\n",
    "\n",
    "# df.to_pickle('processed_data.pkl')\n",
    "\n",
    "\n",
    "\n",
    "# additional_features = df[['exclamation_count', 'question_count', 'capital_word_count', 'sentiment', 'present', 'past', 'future']]\n",
    "# labels = df['label']\n",
    "\n",
    "# train_texts, test_texts, train_additional_features, test_additional_features, train_labels, test_labels = train_test_split(\n",
    "#     texts, additional_features, labels, test_size=0.2, random_state=42\n",
    "# )\n"
   ]
  },
  {
   "cell_type": "code",
   "execution_count": 7,
   "metadata": {},
   "outputs": [],
   "source": [
    "from transformers import BertTokenizer\n",
    "import torch\n",
    "from torch.utils.data import Dataset, DataLoader\n",
    "\n",
    "tokenizer = BertTokenizer.from_pretrained('bert-base-uncased')\n",
    "\n",
    "texts = df['processed_text'].tolist()\n",
    "labels = df['label']\n",
    "\n",
    "class BERTDataset(Dataset):\n",
    "    def __init__(self, texts, labels):\n",
    "        self.encodings = tokenizer(texts, padding=True, truncation=True, return_tensors=\"pt\")\n",
    "        self.labels = torch.tensor(labels.values, dtype=torch.long)\n",
    "    \n",
    "    def __getitem__(self, idx):\n",
    "        item = {key: val[idx] for key, val in self.encodings.items()}\n",
    "        item['labels'] = self.labels[idx]\n",
    "        return item\n",
    "\n",
    "    def __len__(self):\n",
    "        return len(self.labels)\n",
    "\n",
    "class CustomDataset(Dataset):\n",
    "    def __init__(self, texts, additional_features, labels):\n",
    "        self.encodings = tokenizer(texts, padding=True, truncation=True, return_tensors=\"pt\")\n",
    "        self.additional_features = torch.tensor(additional_features.values, dtype=torch.float)\n",
    "        self.labels = torch.tensor(labels.values, dtype=torch.long)\n",
    "    \n",
    "    def __getitem__(self, idx):\n",
    "        item = {key: val[idx] for key, val in self.encodings.items()}\n",
    "        item['additional_features'] = self.additional_features[idx]\n",
    "        item['labels'] = self.labels[idx]\n",
    "        return item\n",
    "\n",
    "    def __len__(self):\n",
    "        return len(self.labels)\n",
    "\n",
    "baseline_validation_dataset = BERTDataset(texts, labels)\n",
    "# baseline_test_dataset = BERTDataset(test_texts, test_labels)\n",
    "# enhanced_train_dataset = CustomDataset(train_texts, train_additional_features, train_labels)\n",
    "# enhanced_test_dataset = CustomDataset(test_texts, test_additional_features, test_labels)\n"
   ]
  },
  {
   "cell_type": "code",
   "execution_count": 8,
   "metadata": {},
   "outputs": [
    {
     "name": "stderr",
     "output_type": "stream",
     "text": [
      "c:\\Users\\Claudiu\\Desktop\\Scoala\\Licenta\\Proiect\\licenta_env\\lib\\site-packages\\transformers\\models\\bert\\modeling_bert.py:435: UserWarning: 1Torch was not compiled with flash attention. (Triggered internally at ..\\aten\\src\\ATen\\native\\transformers\\cuda\\sdp_utils.cpp:455.)\n",
      "  attn_output = torch.nn.functional.scaled_dot_product_attention(\n",
      "100%|██████████| 325/325 [11:17<00:00,  2.08s/it]\n"
     ]
    },
    {
     "name": "stdout",
     "output_type": "stream",
     "text": [
      "Baseline Model Metrics: {'eval_loss': 0.00869634561240673, 'eval_accuracy': 0.9985576923076923, 'eval_precision': 0.9990387388253389, 'eval_recall': 0.9980793239220206, 'eval_f1': 0.9985588009223674, 'eval_runtime': 680.7326, 'eval_samples_per_second': 30.555, 'eval_steps_per_second': 0.477}\n"
     ]
    },
    {
     "name": "stderr",
     "output_type": "stream",
     "text": [
      "100%|██████████| 325/325 [16:04<00:00,  2.97s/it]\n"
     ]
    },
    {
     "data": {
      "image/png": "[encoded data removed]",
      "text/plain": [
       "<Figure size 640x480 with 2 Axes>"
      ]
     },
     "metadata": {},
     "output_type": "display_data"
    }
   ],
   "source": [
    "from transformers import BertForSequenceClassification, Trainer, TrainingArguments\n",
    "from sklearn.metrics import accuracy_score, precision_recall_fscore_support, confusion_matrix\n",
    "import matplotlib.pyplot as plt\n",
    "import seaborn as sns\n",
    "import torch\n",
    "\n",
    "device = torch.device('cuda') if torch.cuda.is_available() else torch.device('cpu')\n",
    "\n",
    "# Load the saved model\n",
    "model_path = \"./best_model\"\n",
    "baseline_model = BertForSequenceClassification.from_pretrained(model_path)\n",
    "baseline_model.to(device)\n",
    "\n",
    "# Define the compute_metrics function\n",
    "def compute_metrics(pred):\n",
    "    labels = pred.label_ids\n",
    "    preds = pred.predictions.argmax(-1)\n",
    "    accuracy = accuracy_score(labels, preds)\n",
    "    precision, recall, f1, _ = precision_recall_fscore_support(labels, preds, average='binary')\n",
    "    return {\n",
    "        'accuracy': accuracy,\n",
    "        'precision': precision,\n",
    "        'recall': recall,\n",
    "        'f1': f1,\n",
    "    }\n",
    "\n",
    "# Define the function to plot the confusion matrix\n",
    "def plot_confusion_matrix(pred):\n",
    "    labels = pred.label_ids\n",
    "    preds = pred.predictions.argmax(-1)\n",
    "    cm = confusion_matrix(labels, preds)\n",
    "    sns.heatmap(cm, annot=True, fmt=\"d\", cmap=\"Blues\")\n",
    "    plt.xlabel('Predicted')\n",
    "    plt.ylabel('True')\n",
    "    plt.show()\n",
    "\n",
    "# Create a Trainer for evaluation\n",
    "evaluation_args = TrainingArguments(\n",
    "    output_dir='./results',          \n",
    "    per_device_eval_batch_size=64,   \n",
    "    logging_dir='./logs',            \n",
    "    logging_steps=10,\n",
    ")\n",
    "\n",
    "trainer = Trainer(\n",
    "    model=baseline_model,                         \n",
    "    args=evaluation_args,                  \n",
    "    eval_dataset=baseline_validation_dataset,\n",
    "    compute_metrics=compute_metrics\n",
    ")\n",
    "\n",
    "# Evaluate the model\n",
    "baseline_results = trainer.evaluate()\n",
    "print(\"Baseline Model Metrics:\", baseline_results)\n",
    "\n",
    "# Predict and plot confusion matrix\n",
    "predictions = trainer.predict(baseline_validation_dataset)\n",
    "plot_confusion_matrix(predictions)\n"
   ]
  }
 ],
 "metadata": {
  "kernelspec": {
   "display_name": "licenta_env",
   "language": "python",
   "name": "python3"
  },
  "language_info": {
   "codemirror_mode": {
    "name": "ipython",
    "version": 3
   },
   "file_extension": ".py",
   "mimetype": "text/x-python",
   "name": "python",
   "nbconvert_exporter": "python",
   "pygments_lexer": "ipython3",
   "version": "3.10.9"
  }
 },
 "nbformat": 4,
 "nbformat_minor": 2
}
